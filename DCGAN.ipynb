{
  "cells": [
    {
      "cell_type": "markdown",
      "metadata": {
        "id": "view-in-github",
        "colab_type": "text"
      },
      "source": [
        "<a href=\"https://colab.research.google.com/github/EngBaz/Generative-AI-GANs/blob/main/DCGAN.ipynb\" target=\"_parent\"><img src=\"https://colab.research.google.com/assets/colab-badge.svg\" alt=\"Open In Colab\"/></a>"
      ]
    },
    {
      "cell_type": "code",
      "execution_count": 1,
      "id": "876121eb",
      "metadata": {
        "id": "876121eb"
      },
      "outputs": [],
      "source": [
        "import numpy as np\n",
        "import torch\n",
        "import torch.nn as nn\n",
        "import torch.nn.functional as F\n",
        "import torch.optim as optim\n",
        "from torchvision import datasets, transforms\n",
        "import matplotlib.pyplot as plt\n",
        "from IPython.display import clear_output\n",
        "device = torch.device('mps' if torch.backends.mps.is_available() else 'cpu')"
      ]
    },
    {
      "cell_type": "code",
      "execution_count": 2,
      "id": "6e72097a",
      "metadata": {
        "colab": {
          "base_uri": "https://localhost:8080/"
        },
        "id": "6e72097a",
        "outputId": "fd675d9c-4890-43e2-83b1-e03bd3358c37"
      },
      "outputs": [
        {
          "output_type": "stream",
          "name": "stdout",
          "text": [
            "cpu\n"
          ]
        }
      ],
      "source": [
        "print(device)"
      ]
    },
    {
      "cell_type": "code",
      "execution_count": 3,
      "id": "f6c122c5",
      "metadata": {
        "id": "f6c122c5"
      },
      "outputs": [],
      "source": [
        "class Generator(nn.Module):\n",
        "    def __init__(self, input_size, hidden_size, num_channels):\n",
        "        super(Generator, self).__init__()\n",
        "        self.cnn1 = nn.ConvTranspose2d(input_size, hidden_size*4, kernel_size=4, stride=1, padding=0, bias=False)\n",
        "        self.norm1 = nn.BatchNorm2d(hidden_size*4)\n",
        "        self.cnn2 = nn.ConvTranspose2d(hidden_size*4, hidden_size*2, kernel_size=4, stride=2, padding=1, bias=False)\n",
        "        self.norm2 = nn.BatchNorm2d(hidden_size*2)\n",
        "        self.cnn3 = nn.ConvTranspose2d(hidden_size*2, hidden_size, kernel_size=4, stride=2, padding=1, bias=False)\n",
        "        self.norm3 = nn.BatchNorm2d(hidden_size)\n",
        "        self.cnn4 = nn.ConvTranspose2d(hidden_size, num_channels, kernel_size=4, stride=2, padding=3, bias=False)\n",
        "        \n",
        "    def forward(self, x):\n",
        "        x = F.relu(self.norm1(self.cnn1(x)))\n",
        "        x = F.relu(self.norm2(self.cnn2(x)))\n",
        "        x = F.relu(self.norm3(self.cnn3(x)))\n",
        "        x = F.tanh(self.cnn4(x))\n",
        "        \n",
        "        return x"
      ]
    },
    {
      "cell_type": "code",
      "execution_count": 4,
      "id": "87141cdb",
      "metadata": {
        "id": "87141cdb"
      },
      "outputs": [],
      "source": [
        "class Discriminator(nn.Module):\n",
        "    def __init__(self, num_channels, hidden_size):\n",
        "        super(Discriminator, self).__init__()\n",
        "        self.conv1 = nn.Conv2d(num_channels, hidden_size, kernel_size=4, stride=2, padding=3, bias=False)\n",
        "        self.relu1 = nn.LeakyReLU(0.2)\n",
        "        self.conv2 = nn.Conv2d(hidden_size, hidden_size*2, kernel_size=4, stride=2, padding=1, bias=False)\n",
        "        self.norm2 = nn.BatchNorm2d(hidden_size*2)\n",
        "        self.relu2 = nn.LeakyReLU(0.2)\n",
        "        self.conv3 = nn.Conv2d(hidden_size*2, hidden_size*4, kernel_size=4, stride=2, padding=1, bias=False)\n",
        "        self.norm3 = nn.BatchNorm2d(hidden_size*4)\n",
        "        self.relu3 = nn.LeakyReLU(0.2)\n",
        "        self.conv4 = nn.Conv2d(hidden_size*4, num_channels, kernel_size=4, stride=1, padding=0, bias=False)\n",
        "            \n",
        "    def forward(self, x):\n",
        "        x = self.relu1(self.conv1(x))\n",
        "        x = self.relu2(self.norm2(self.conv2(x)))\n",
        "        x = self.relu3(self.norm3(self.conv3(x)))\n",
        "        x = F.sigmoid(self.conv4(x))\n",
        "        return x"
      ]
    },
    {
      "cell_type": "code",
      "execution_count": 5,
      "id": "9cbeac2b",
      "metadata": {
        "id": "9cbeac2b"
      },
      "outputs": [],
      "source": [
        "def weight_init(module):\n",
        "    classname = module.__class__.__name__\n",
        "    if classname.find('Conv')!=-1:\n",
        "        module.weight.data.normal_(0.0, .02)\n",
        "    elif classname.find('BatchNorm') != -1:\n",
        "        module.weight.data.normal_(1.0, .01)\n",
        "        module.bias.data.fill_(0.0)"
      ]
    },
    {
      "cell_type": "code",
      "execution_count": 6,
      "id": "951b675d",
      "metadata": {
        "id": "951b675d"
      },
      "outputs": [],
      "source": [
        "def plot(epoch, batch_idx, d_losses, g_losses):\n",
        "    clear_output(True)\n",
        "    plt.title('epoch %s. | batch: %s | d_loss: %s | g_loss: %s' % (epoch, batch_idx, round(np.mean(d_losses[-100:]),2), round(np.mean(g_losses[-100:]),2)))\n",
        "    plt.plot(d_losses, label='discriminator loss')\n",
        "    plt.plot(g_losses, label='generator loss')\n",
        "    plt.legend()\n",
        "    plt.show()"
      ]
    },
    {
      "cell_type": "code",
      "execution_count": 7,
      "id": "53cf9c07",
      "metadata": {
        "id": "53cf9c07"
      },
      "outputs": [],
      "source": [
        "transform = transforms.Compose([transforms.ToTensor(),\n",
        "                                transforms.Normalize((0.5,), (0.5,))\n",
        "                               ])"
      ]
    },
    {
      "cell_type": "code",
      "execution_count": 8,
      "id": "f69145c6",
      "metadata": {
        "colab": {
          "base_uri": "https://localhost:8080/"
        },
        "id": "f69145c6",
        "outputId": "df0900be-117d-4d24-b8be-0ac9d92af548"
      },
      "outputs": [
        {
          "output_type": "stream",
          "name": "stdout",
          "text": [
            "Downloading http://yann.lecun.com/exdb/mnist/train-images-idx3-ubyte.gz\n",
            "Downloading http://yann.lecun.com/exdb/mnist/train-images-idx3-ubyte.gz to ./mnist_data/MNIST/raw/train-images-idx3-ubyte.gz\n"
          ]
        },
        {
          "output_type": "stream",
          "name": "stderr",
          "text": [
            "100%|██████████| 9912422/9912422 [00:00<00:00, 143477819.53it/s]"
          ]
        },
        {
          "output_type": "stream",
          "name": "stdout",
          "text": [
            "Extracting ./mnist_data/MNIST/raw/train-images-idx3-ubyte.gz to ./mnist_data/MNIST/raw\n"
          ]
        },
        {
          "output_type": "stream",
          "name": "stderr",
          "text": [
            "\n"
          ]
        },
        {
          "output_type": "stream",
          "name": "stdout",
          "text": [
            "\n",
            "Downloading http://yann.lecun.com/exdb/mnist/train-labels-idx1-ubyte.gz\n",
            "Downloading http://yann.lecun.com/exdb/mnist/train-labels-idx1-ubyte.gz to ./mnist_data/MNIST/raw/train-labels-idx1-ubyte.gz\n"
          ]
        },
        {
          "output_type": "stream",
          "name": "stderr",
          "text": [
            "100%|██████████| 28881/28881 [00:00<00:00, 104337376.25it/s]\n"
          ]
        },
        {
          "output_type": "stream",
          "name": "stdout",
          "text": [
            "Extracting ./mnist_data/MNIST/raw/train-labels-idx1-ubyte.gz to ./mnist_data/MNIST/raw\n",
            "\n",
            "Downloading http://yann.lecun.com/exdb/mnist/t10k-images-idx3-ubyte.gz\n",
            "Downloading http://yann.lecun.com/exdb/mnist/t10k-images-idx3-ubyte.gz to ./mnist_data/MNIST/raw/t10k-images-idx3-ubyte.gz\n"
          ]
        },
        {
          "output_type": "stream",
          "name": "stderr",
          "text": [
            "100%|██████████| 1648877/1648877 [00:00<00:00, 32442775.77it/s]\n"
          ]
        },
        {
          "output_type": "stream",
          "name": "stdout",
          "text": [
            "Extracting ./mnist_data/MNIST/raw/t10k-images-idx3-ubyte.gz to ./mnist_data/MNIST/raw\n",
            "\n",
            "Downloading http://yann.lecun.com/exdb/mnist/t10k-labels-idx1-ubyte.gz\n",
            "Downloading http://yann.lecun.com/exdb/mnist/t10k-labels-idx1-ubyte.gz to ./mnist_data/MNIST/raw/t10k-labels-idx1-ubyte.gz\n"
          ]
        },
        {
          "output_type": "stream",
          "name": "stderr",
          "text": [
            "100%|██████████| 4542/4542 [00:00<00:00, 19281911.71it/s]\n"
          ]
        },
        {
          "output_type": "stream",
          "name": "stdout",
          "text": [
            "Extracting ./mnist_data/MNIST/raw/t10k-labels-idx1-ubyte.gz to ./mnist_data/MNIST/raw\n",
            "\n"
          ]
        }
      ],
      "source": [
        "batch_size = 16\n",
        "train_dataset = datasets.MNIST(root='./mnist_data/', train=True, transform=transform, download=True)\n",
        "test_dataset = datasets.MNIST(root='./mnist_data/', train=False, transform=transform, download=False)\n",
        "\n",
        "train_dataloader = torch.utils.data.DataLoader(train_dataset, batch_size=batch_size, shuffle=True)\n",
        "test_dataloader = torch.utils.data.DataLoader(test_dataset, batch_size=batch_size, shuffle=False)"
      ]
    },
    {
      "cell_type": "code",
      "execution_count": 9,
      "id": "120acf30",
      "metadata": {
        "id": "120acf30"
      },
      "outputs": [],
      "source": [
        "input_size = 100\n",
        "hidden_size = 64  #Size of feature maps\n",
        "num_channels = 1  #Num of channels\n",
        "g_model = Generator(input_size, hidden_size, num_channels)\n",
        "g_model = g_model.to(device)"
      ]
    },
    {
      "cell_type": "code",
      "execution_count": 10,
      "id": "805668b9",
      "metadata": {
        "id": "805668b9"
      },
      "outputs": [],
      "source": [
        "d_model = Discriminator(num_channels, hidden_size)\n",
        "d_model = d_model.to(device)"
      ]
    },
    {
      "cell_type": "code",
      "execution_count": 11,
      "id": "c9261a1f",
      "metadata": {
        "colab": {
          "base_uri": "https://localhost:8080/"
        },
        "id": "c9261a1f",
        "outputId": "039c0b43-d345-4803-bb84-2eddbc99c469"
      },
      "outputs": [
        {
          "output_type": "execute_result",
          "data": {
            "text/plain": [
              "Discriminator(\n",
              "  (conv1): Conv2d(1, 64, kernel_size=(4, 4), stride=(2, 2), padding=(3, 3), bias=False)\n",
              "  (relu1): LeakyReLU(negative_slope=0.2)\n",
              "  (conv2): Conv2d(64, 128, kernel_size=(4, 4), stride=(2, 2), padding=(1, 1), bias=False)\n",
              "  (norm2): BatchNorm2d(128, eps=1e-05, momentum=0.1, affine=True, track_running_stats=True)\n",
              "  (relu2): LeakyReLU(negative_slope=0.2)\n",
              "  (conv3): Conv2d(128, 256, kernel_size=(4, 4), stride=(2, 2), padding=(1, 1), bias=False)\n",
              "  (norm3): BatchNorm2d(256, eps=1e-05, momentum=0.1, affine=True, track_running_stats=True)\n",
              "  (relu3): LeakyReLU(negative_slope=0.2)\n",
              "  (conv4): Conv2d(256, 1, kernel_size=(4, 4), stride=(1, 1), bias=False)\n",
              ")"
            ]
          },
          "metadata": {},
          "execution_count": 11
        }
      ],
      "source": [
        "g_model.apply(weight_init)\n",
        "d_model.apply(weight_init)"
      ]
    },
    {
      "cell_type": "code",
      "execution_count": 12,
      "id": "9303162f",
      "metadata": {
        "id": "9303162f"
      },
      "outputs": [],
      "source": [
        "lr = 2e-4\n",
        "g_optimizer = optim.SGD(g_model.parameters(), lr=lr)\n",
        "d_optimizer = optim.SGD(d_model.parameters(), lr=lr)"
      ]
    },
    {
      "cell_type": "code",
      "execution_count": 13,
      "id": "4b5a674a",
      "metadata": {
        "id": "4b5a674a"
      },
      "outputs": [],
      "source": [
        "criterion = nn.BCELoss()"
      ]
    },
    {
      "cell_type": "code",
      "execution_count": 14,
      "id": "1a1dd2d7",
      "metadata": {
        "id": "1a1dd2d7"
      },
      "outputs": [],
      "source": [
        "g_losses = []\n",
        "d_losses = []"
      ]
    },
    {
      "cell_type": "code",
      "execution_count": 15,
      "id": "08d218ac",
      "metadata": {
        "id": "08d218ac"
      },
      "outputs": [],
      "source": [
        "steps = len(train_dataloader)*batch_size"
      ]
    },
    {
      "cell_type": "code",
      "execution_count": 16,
      "id": "2a66f2f2",
      "metadata": {
        "id": "2a66f2f2"
      },
      "outputs": [],
      "source": [
        "import os\n",
        "output_dir = 'results/dcgan_bs16_ls100_lr2e-4'\n",
        "if not os.path.exists(output_dir):\n",
        "    os.makedirs(output_dir)"
      ]
    },
    {
      "cell_type": "code",
      "execution_count": 17,
      "id": "e7f6a0b5",
      "metadata": {
        "colab": {
          "base_uri": "https://localhost:8080/",
          "height": 452
        },
        "id": "e7f6a0b5",
        "outputId": "5c2e634c-9725-4b3f-fe5c-d9bb7a43a171"
      },
      "outputs": [
        {
          "output_type": "display_data",
          "data": {
            "text/plain": [
              "<Figure size 640x480 with 1 Axes>"
            ],
            "image/png": "[encoded data removed]"
          },
          "metadata": {}
        }
      ],
      "source": [
        "epochs = 2\n",
        "for epoch in range(1, epochs+1):\n",
        "    for batch_idx, data in enumerate(train_dataloader):\n",
        "        x = data[0].to(device)\n",
        "        real_y = torch.ones(x.shape[0], 1, 1, 1).to(device)\n",
        "        fake_y = torch.zeros(x.shape[0], 1, 1, 1).to(device)\n",
        "        noise = torch.randn(x.shape[0], input_size, 1, 1).to(device)\n",
        "        \n",
        "        #Train Generator\n",
        "        g_out = g_model(noise)\n",
        "        d_out = d_model(g_out)\n",
        "        g_loss = criterion(d_out, real_y)\n",
        "        g_losses.append(g_loss.item())\n",
        "        \n",
        "        g_optimizer.zero_grad()\n",
        "        g_loss.backward()\n",
        "        g_optimizer.step()\n",
        "        \n",
        "        #Train Discriminator\n",
        "        real_out = d_model(x)\n",
        "        real_loss = criterion(real_out, real_y)\n",
        "        fake_out = d_model(g_out.detach())\n",
        "        fake_loss = criterion(fake_out, fake_y)\n",
        "        d_loss = real_loss + fake_loss\n",
        "        d_losses.append(d_loss.item())\n",
        "        \n",
        "        d_optimizer.zero_grad()\n",
        "        d_loss.backward()\n",
        "        d_optimizer.step()\n",
        "        \n",
        "        if batch_idx != 0 and batch_idx % 100 == 0:\n",
        "            plot(epoch, batch_idx, d_losses, g_losses)\n",
        "\n",
        "    if epoch%50==0:\n",
        "        torch.save(g_model, os.path.join(output_dir, 'generator_epoch%s.pt'%epoch))"
      ]
    }
  ],
  "metadata": {
    "kernelspec": {
      "display_name": "Python 3 (ipykernel)",
      "language": "python",
      "name": "python3"
    },
    "language_info": {
      "codemirror_mode": {
        "name": "ipython",
        "version": 3
      },
      "file_extension": ".py",
      "mimetype": "text/x-python",
      "name": "python",
      "nbconvert_exporter": "python",
      "pygments_lexer": "ipython3",
      "version": "3.9.16"
    },
    "colab": {
      "provenance": [],
      "include_colab_link": true
    }
  },
  "nbformat": 4,
  "nbformat_minor": 5
}